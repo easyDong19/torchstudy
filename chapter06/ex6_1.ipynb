{
 "cells": [
  {
   "cell_type": "code",
   "execution_count": 3,
   "id": "initial_id",
   "metadata": {
    "collapsed": true,
    "ExecuteTime": {
     "end_time": "2024-01-11T05:28:04.502413Z",
     "start_time": "2024-01-11T05:28:04.492630Z"
    }
   },
   "outputs": [
    {
     "name": "stdout",
     "output_type": "stream",
     "text": [
      "<class 'pandas.core.frame.DataFrame'>\n",
      "RangeIndex: 967 entries, 0 to 966\n",
      "Data columns (total 6 columns):\n",
      " #   Column  Non-Null Count  Dtype \n",
      "---  ------  --------------  ----- \n",
      " 0   Date    967 non-null    object\n",
      " 1   Open    967 non-null    int64 \n",
      " 2   High    967 non-null    int64 \n",
      " 3   Low     967 non-null    int64 \n",
      " 4   Volume  967 non-null    int64 \n",
      " 5   Close   967 non-null    int64 \n",
      "dtypes: int64(5), object(1)\n",
      "memory usage: 45.5+ KB\n"
     ]
    }
   ],
   "source": [
    "import pandas as pd\n",
    "\n",
    "data = pd.read_csv('CH06.csv')\n",
    "data.info()\n"
   ]
  },
  {
   "cell_type": "code",
   "outputs": [
    {
     "data": {
      "text/plain": "<Figure size 640x480 with 4 Axes>",
      "image/png": "[encoded data removed]"
     },
     "metadata": {},
     "output_type": "display_data"
    }
   ],
   "source": [
    "import matplotlib.pyplot as plt\n",
    "\n",
    "data_used = data.iloc[:, 1:4]\n",
    "data_used[\"Close\"] = data[\"Close\"]\n",
    "hist = data_used.hist()\n",
    "plt.show()"
   ],
   "metadata": {
    "collapsed": false,
    "ExecuteTime": {
     "end_time": "2024-01-11T05:29:14.049380Z",
     "start_time": "2024-01-11T05:29:13.807259Z"
    }
   },
   "id": "407fe8ecc61d53a4",
   "execution_count": 5
  },
  {
   "cell_type": "markdown",
   "source": [
    "### 최소-최대 정규화(Min-Max Normalization)\n",
    "최댓값은 1, 최소값은 0을 갖도록 데이터를 변환"
   ],
   "metadata": {
    "collapsed": false
   },
   "id": "be20e86df607bffc"
  },
  {
   "cell_type": "code",
   "outputs": [],
   "source": [
    "# 넷플릭스 데이터셋 정의\n",
    "import numpy as np\n",
    "from torch.utils.data.dataset import Dataset\n",
    "\n",
    "\n",
    "class Netflix(Dataset):\n",
    "    def __init__(self):\n",
    "        self.csv = pd.read_csv('CH06.csv')\n",
    "\n",
    "        # 입력 데이터 정규화 \n",
    "        self.data = self.csv.iloc[:, 1:4].values\n",
    "        self.data = self.data / np.max(self.data)\n",
    "\n",
    "        # 종가 데이터 정규화\n",
    "        self.label = data[\"Close\"].values\n",
    "        self.label = self.label / np.max(self.label)\n",
    "\n",
    "    def __len__(self):\n",
    "        return len(self.data) - 30\n",
    "\n",
    "    def __getitem__(self, i):\n",
    "        data = self.data[i:i + 30]\n",
    "        label = self.label[i + 30]\n",
    "\n",
    "        return data, label\n"
   ],
   "metadata": {
    "collapsed": false,
    "ExecuteTime": {
     "end_time": "2024-01-11T05:47:41.566130Z",
     "start_time": "2024-01-11T05:47:40.547010Z"
    }
   },
   "id": "a2eca716a7444bbd",
   "execution_count": 6
  },
  {
   "cell_type": "code",
   "outputs": [],
   "source": [
    "import torch\n",
    "import torch.nn as nn\n",
    "\n",
    "\n",
    "class RNN(nn.Module):\n",
    "    def __init__(self) -> None:\n",
    "        super(RNN, self).__init__()\n",
    "\n",
    "        self.rnn = nn.RNN(input_size=3, hidden_size=8, num_layers=5, batch_first=True)\n",
    "\n",
    "        self.fc1 = nn.Linear(in_features=240, out_features=64)\n",
    "        self.fc2 = nn.Linear(in_features=64, out_features=1)\n",
    "\n",
    "        self.relu = nn.ReLU()\n",
    "\n",
    "    def forward(self, x, h0):\n",
    "        x, hn = self.rnn(x, h0)\n",
    "        \n",
    "        x = torch.reshape(x, (x.shape[0],-1))\n",
    "        x = self.fc1(x)\n",
    "        x = self.relu(x)\n",
    "        x = self.fc2(x)\n",
    "\n",
    "        x = torch.flatten(x)\n",
    "\n",
    "        return x\n",
    "        "
   ],
   "metadata": {
    "collapsed": false,
    "ExecuteTime": {
     "end_time": "2024-01-11T06:21:44.475991Z",
     "start_time": "2024-01-11T06:21:44.470185Z"
    }
   },
   "id": "c15bf2cc0d4f3b6e",
   "execution_count": 32
  },
  {
   "cell_type": "code",
   "outputs": [
    {
     "ename": "IndexError",
     "evalue": "too many indices for tensor of dimension 3",
     "output_type": "error",
     "traceback": [
      "\u001B[0;31m---------------------------------------------------------------------------\u001B[0m",
      "\u001B[0;31mIndexError\u001B[0m                                Traceback (most recent call last)",
      "\u001B[0;32m/var/folders/ws/lngrb3y14bx9ckr9196sk6qm0000gn/T/ipykernel_56000/434216337.py\u001B[0m in \u001B[0;36m<module>\u001B[0;34m\u001B[0m\n\u001B[1;32m      7\u001B[0m \u001B[0;34m\u001B[0m\u001B[0m\n\u001B[1;32m      8\u001B[0m \u001B[0mmodel\u001B[0m \u001B[0;34m=\u001B[0m \u001B[0mRNN\u001B[0m\u001B[0;34m(\u001B[0m\u001B[0;34m)\u001B[0m\u001B[0;34m.\u001B[0m\u001B[0mto\u001B[0m\u001B[0;34m(\u001B[0m\u001B[0mdevice\u001B[0m\u001B[0;34m)\u001B[0m\u001B[0;34m\u001B[0m\u001B[0;34m\u001B[0m\u001B[0m\n\u001B[0;32m----> 9\u001B[0;31m \u001B[0mdataset\u001B[0m \u001B[0;34m=\u001B[0m \u001B[0mNetflix\u001B[0m\u001B[0;34m(\u001B[0m\u001B[0;34m)\u001B[0m\u001B[0;34m\u001B[0m\u001B[0;34m\u001B[0m\u001B[0m\n\u001B[0m\u001B[1;32m     10\u001B[0m \u001B[0;34m\u001B[0m\u001B[0m\n\u001B[1;32m     11\u001B[0m \u001B[0;31m#데이터 로더 정의\u001B[0m\u001B[0;34m\u001B[0m\u001B[0;34m\u001B[0m\u001B[0;34m\u001B[0m\u001B[0m\n",
      "\u001B[0;32m/var/folders/ws/lngrb3y14bx9ckr9196sk6qm0000gn/T/ipykernel_56000/748949614.py\u001B[0m in \u001B[0;36m__init__\u001B[0;34m(self)\u001B[0m\n\u001B[1;32m     13\u001B[0m \u001B[0;34m\u001B[0m\u001B[0m\n\u001B[1;32m     14\u001B[0m         \u001B[0;31m# 종가 데이터 정규화\u001B[0m\u001B[0;34m\u001B[0m\u001B[0;34m\u001B[0m\u001B[0;34m\u001B[0m\u001B[0m\n\u001B[0;32m---> 15\u001B[0;31m         \u001B[0mself\u001B[0m\u001B[0;34m.\u001B[0m\u001B[0mlabel\u001B[0m \u001B[0;34m=\u001B[0m \u001B[0mdata\u001B[0m\u001B[0;34m[\u001B[0m\u001B[0;34m\"Close\"\u001B[0m\u001B[0;34m]\u001B[0m\u001B[0;34m.\u001B[0m\u001B[0mvalues\u001B[0m\u001B[0;34m\u001B[0m\u001B[0;34m\u001B[0m\u001B[0m\n\u001B[0m\u001B[1;32m     16\u001B[0m         \u001B[0mself\u001B[0m\u001B[0;34m.\u001B[0m\u001B[0mlabel\u001B[0m \u001B[0;34m=\u001B[0m \u001B[0mself\u001B[0m\u001B[0;34m.\u001B[0m\u001B[0mlabel\u001B[0m \u001B[0;34m/\u001B[0m \u001B[0mnp\u001B[0m\u001B[0;34m.\u001B[0m\u001B[0mmax\u001B[0m\u001B[0;34m(\u001B[0m\u001B[0mself\u001B[0m\u001B[0;34m.\u001B[0m\u001B[0mlabel\u001B[0m\u001B[0;34m)\u001B[0m\u001B[0;34m\u001B[0m\u001B[0;34m\u001B[0m\u001B[0m\n\u001B[1;32m     17\u001B[0m \u001B[0;34m\u001B[0m\u001B[0m\n",
      "\u001B[0;31mIndexError\u001B[0m: too many indices for tensor of dimension 3"
     ]
    }
   ],
   "source": [
    "import tqdm\n",
    "\n",
    "from torch.optim.adam import Adam\n",
    "from torch.utils.data import DataLoader\n",
    "\n",
    "device = \"cuda\" if torch.cuda.is_available() else \"cpu\"\n",
    "\n",
    "model = RNN().to(device)\n",
    "dataset = Netflix()\n",
    "\n",
    "#데이터 로더 정의\n",
    "loader = DataLoader(dataset, batch_size=32)\n",
    "optim = Adam(params=model.parameters(), lr=0.0001)"
   ],
   "metadata": {
    "collapsed": false,
    "ExecuteTime": {
     "end_time": "2024-01-11T06:21:44.825121Z",
     "start_time": "2024-01-11T06:21:44.809557Z"
    }
   },
   "id": "ea98437ef57fb8d9",
   "execution_count": 33
  },
  {
   "cell_type": "code",
   "outputs": [
    {
     "name": "stderr",
     "output_type": "stream",
     "text": [
      "epoch0 loss:0.5932317972183228: 100%|██████████| 30/30 [00:00<00:00, 95.07it/s]\n",
      "epoch1 loss:0.5932317972183228: 100%|██████████| 30/30 [00:00<00:00, 105.59it/s] \n",
      "epoch2 loss:0.5932317972183228: 100%|██████████| 30/30 [00:00<00:00, 103.96it/s] \n",
      "epoch3 loss:0.5932317972183228: 100%|██████████| 30/30 [00:00<00:00, 105.15it/s] \n",
      "epoch4 loss:0.5932317972183228: 100%|██████████| 30/30 [00:00<00:00, 102.50it/s] \n",
      "epoch5 loss:0.5932317972183228: 100%|██████████| 30/30 [00:00<00:00, 101.38it/s]\n",
      "epoch6 loss:0.5932317972183228: 100%|██████████| 30/30 [00:00<00:00, 105.32it/s] \n",
      "epoch7 loss:0.5932317972183228: 100%|██████████| 30/30 [00:00<00:00, 104.32it/s] \n",
      "epoch8 loss:0.5932317972183228: 100%|██████████| 30/30 [00:00<00:00, 105.19it/s] \n",
      "epoch9 loss:0.5932317972183228: 100%|██████████| 30/30 [00:00<00:00, 101.50it/s] \n",
      "epoch10 loss:0.5932317972183228: 100%|██████████| 30/30 [00:00<00:00, 95.76it/s] \n",
      "epoch11 loss:0.5932317972183228: 100%|██████████| 30/30 [00:00<00:00, 100.64it/s]\n",
      "epoch12 loss:0.5932317972183228: 100%|██████████| 30/30 [00:00<00:00, 103.24it/s] \n",
      "epoch13 loss:0.5932317972183228: 100%|██████████| 30/30 [00:00<00:00, 102.01it/s] \n",
      "epoch14 loss:0.5932317972183228: 100%|██████████| 30/30 [00:00<00:00, 104.52it/s] \n",
      "epoch15 loss:0.5932317972183228: 100%|██████████| 30/30 [00:00<00:00, 103.35it/s] \n",
      "epoch16 loss:0.5932317972183228: 100%|██████████| 30/30 [00:00<00:00, 104.99it/s] \n",
      "epoch17 loss:0.5932317972183228: 100%|██████████| 30/30 [00:00<00:00, 102.71it/s] \n",
      "epoch18 loss:0.5932317972183228: 100%|██████████| 30/30 [00:00<00:00, 101.97it/s] \n",
      "epoch19 loss:0.5932317972183228: 100%|██████████| 30/30 [00:00<00:00, 102.30it/s] \n",
      "epoch20 loss:0.5932317972183228: 100%|██████████| 30/30 [00:00<00:00, 101.03it/s]\n",
      "epoch21 loss:0.5932317972183228: 100%|██████████| 30/30 [00:00<00:00, 100.30it/s] \n",
      "epoch22 loss:0.5932317972183228: 100%|██████████| 30/30 [00:00<00:00, 101.81it/s]\n",
      "epoch23 loss:0.5932317972183228: 100%|██████████| 30/30 [00:00<00:00, 103.18it/s] \n",
      "epoch24 loss:0.5932317972183228: 100%|██████████| 30/30 [00:00<00:00, 100.95it/s] \n",
      "epoch25 loss:0.5932317972183228: 100%|██████████| 30/30 [00:00<00:00, 101.66it/s] \n",
      "epoch26 loss:0.5932317972183228: 100%|██████████| 30/30 [00:00<00:00, 101.96it/s] \n",
      "epoch27 loss:0.5932317972183228: 100%|██████████| 30/30 [00:00<00:00, 102.09it/s] \n",
      "epoch28 loss:0.5932317972183228: 100%|██████████| 30/30 [00:00<00:00, 102.39it/s] \n",
      "epoch29 loss:0.5932317972183228: 100%|██████████| 30/30 [00:00<00:00, 102.52it/s] \n",
      "epoch30 loss:0.5932317972183228: 100%|██████████| 30/30 [00:00<00:00, 103.22it/s] \n",
      "epoch31 loss:0.5932317972183228: 100%|██████████| 30/30 [00:00<00:00, 105.59it/s] \n",
      "epoch32 loss:0.5932317972183228: 100%|██████████| 30/30 [00:00<00:00, 103.64it/s] \n",
      "epoch33 loss:0.5932317972183228: 100%|██████████| 30/30 [00:00<00:00, 105.39it/s] \n",
      "epoch34 loss:0.5932317972183228: 100%|██████████| 30/30 [00:00<00:00, 102.60it/s] \n",
      "epoch35 loss:0.5932317972183228: 100%|██████████| 30/30 [00:00<00:00, 101.99it/s] \n",
      "epoch36 loss:0.5932317972183228: 100%|██████████| 30/30 [00:00<00:00, 101.27it/s] \n",
      "epoch37 loss:0.5932317972183228: 100%|██████████| 30/30 [00:00<00:00, 103.06it/s] \n",
      "epoch38 loss:0.5932317972183228: 100%|██████████| 30/30 [00:00<00:00, 100.87it/s]\n",
      "epoch39 loss:0.5932317972183228: 100%|██████████| 30/30 [00:00<00:00, 99.67it/s] \n",
      "epoch40 loss:0.5932317972183228: 100%|██████████| 30/30 [00:00<00:00, 103.78it/s] \n",
      "epoch41 loss:0.5932317972183228: 100%|██████████| 30/30 [00:00<00:00, 102.66it/s] \n",
      "epoch42 loss:0.5932317972183228: 100%|██████████| 30/30 [00:00<00:00, 100.29it/s] \n",
      "epoch43 loss:0.5932317972183228: 100%|██████████| 30/30 [00:00<00:00, 101.32it/s] \n",
      "epoch44 loss:0.5932317972183228: 100%|██████████| 30/30 [00:00<00:00, 99.76it/s]  \n",
      "epoch45 loss:0.5932317972183228: 100%|██████████| 30/30 [00:00<00:00, 99.54it/s] \n",
      "epoch46 loss:0.5932317972183228: 100%|██████████| 30/30 [00:00<00:00, 102.85it/s] \n",
      "epoch47 loss:0.5932317972183228: 100%|██████████| 30/30 [00:00<00:00, 99.99it/s] \n",
      "epoch48 loss:0.5932317972183228: 100%|██████████| 30/30 [00:00<00:00, 100.57it/s]\n",
      "epoch49 loss:0.10252939164638519:  10%|█         | 3/30 [00:00<00:00, 67.64it/s]\n"
     ]
    },
    {
     "ename": "KeyboardInterrupt",
     "evalue": "",
     "output_type": "error",
     "traceback": [
      "\u001B[0;31m---------------------------------------------------------------------------\u001B[0m",
      "\u001B[0;31mKeyboardInterrupt\u001B[0m                         Traceback (most recent call last)",
      "\u001B[0;32m/var/folders/ws/lngrb3y14bx9ckr9196sk6qm0000gn/T/ipykernel_56000/1010431032.py\u001B[0m in \u001B[0;36m<module>\u001B[0;34m\u001B[0m\n\u001B[1;32m     13\u001B[0m         \u001B[0moptim\u001B[0m\u001B[0;34m.\u001B[0m\u001B[0mstep\u001B[0m\u001B[0;34m(\u001B[0m\u001B[0;34m)\u001B[0m\u001B[0;34m\u001B[0m\u001B[0;34m\u001B[0m\u001B[0m\n\u001B[1;32m     14\u001B[0m \u001B[0;34m\u001B[0m\u001B[0m\n\u001B[0;32m---> 15\u001B[0;31m         \u001B[0miterator\u001B[0m\u001B[0;34m.\u001B[0m\u001B[0mset_description\u001B[0m\u001B[0;34m(\u001B[0m\u001B[0;34mf\"epoch{epoch} loss:{loss.item()}\"\u001B[0m\u001B[0;34m)\u001B[0m\u001B[0;34m\u001B[0m\u001B[0;34m\u001B[0m\u001B[0m\n\u001B[0m\u001B[1;32m     16\u001B[0m \u001B[0;34m\u001B[0m\u001B[0m\n\u001B[1;32m     17\u001B[0m \u001B[0mtorch\u001B[0m\u001B[0;34m.\u001B[0m\u001B[0msave\u001B[0m\u001B[0;34m(\u001B[0m\u001B[0mmodel\u001B[0m\u001B[0;34m.\u001B[0m\u001B[0mstate_dict\u001B[0m\u001B[0;34m(\u001B[0m\u001B[0;34m)\u001B[0m\u001B[0;34m,\u001B[0m \u001B[0;34m'./rnn.pth'\u001B[0m\u001B[0;34m)\u001B[0m\u001B[0;34m\u001B[0m\u001B[0;34m\u001B[0m\u001B[0m\n",
      "\u001B[0;32m~/opt/anaconda3/envs/torchStudy/lib/python3.7/site-packages/tqdm/std.py\u001B[0m in \u001B[0;36mset_description\u001B[0;34m(self, desc, refresh)\u001B[0m\n\u001B[1;32m   1406\u001B[0m         \u001B[0mself\u001B[0m\u001B[0;34m.\u001B[0m\u001B[0mdesc\u001B[0m \u001B[0;34m=\u001B[0m \u001B[0mdesc\u001B[0m \u001B[0;34m+\u001B[0m \u001B[0;34m': '\u001B[0m \u001B[0;32mif\u001B[0m \u001B[0mdesc\u001B[0m \u001B[0;32melse\u001B[0m \u001B[0;34m''\u001B[0m\u001B[0;34m\u001B[0m\u001B[0;34m\u001B[0m\u001B[0m\n\u001B[1;32m   1407\u001B[0m         \u001B[0;32mif\u001B[0m \u001B[0mrefresh\u001B[0m\u001B[0;34m:\u001B[0m\u001B[0;34m\u001B[0m\u001B[0;34m\u001B[0m\u001B[0m\n\u001B[0;32m-> 1408\u001B[0;31m             \u001B[0mself\u001B[0m\u001B[0;34m.\u001B[0m\u001B[0mrefresh\u001B[0m\u001B[0;34m(\u001B[0m\u001B[0;34m)\u001B[0m\u001B[0;34m\u001B[0m\u001B[0;34m\u001B[0m\u001B[0m\n\u001B[0m\u001B[1;32m   1409\u001B[0m \u001B[0;34m\u001B[0m\u001B[0m\n\u001B[1;32m   1410\u001B[0m     \u001B[0;32mdef\u001B[0m \u001B[0mset_description_str\u001B[0m\u001B[0;34m(\u001B[0m\u001B[0mself\u001B[0m\u001B[0;34m,\u001B[0m \u001B[0mdesc\u001B[0m\u001B[0;34m=\u001B[0m\u001B[0;32mNone\u001B[0m\u001B[0;34m,\u001B[0m \u001B[0mrefresh\u001B[0m\u001B[0;34m=\u001B[0m\u001B[0;32mTrue\u001B[0m\u001B[0;34m)\u001B[0m\u001B[0;34m:\u001B[0m\u001B[0;34m\u001B[0m\u001B[0;34m\u001B[0m\u001B[0m\n",
      "\u001B[0;32m~/opt/anaconda3/envs/torchStudy/lib/python3.7/site-packages/tqdm/std.py\u001B[0m in \u001B[0;36mrefresh\u001B[0;34m(self, nolock, lock_args)\u001B[0m\n\u001B[1;32m   1359\u001B[0m             \u001B[0;32melse\u001B[0m\u001B[0;34m:\u001B[0m\u001B[0;34m\u001B[0m\u001B[0;34m\u001B[0m\u001B[0m\n\u001B[1;32m   1360\u001B[0m                 \u001B[0mself\u001B[0m\u001B[0;34m.\u001B[0m\u001B[0m_lock\u001B[0m\u001B[0;34m.\u001B[0m\u001B[0macquire\u001B[0m\u001B[0;34m(\u001B[0m\u001B[0;34m)\u001B[0m\u001B[0;34m\u001B[0m\u001B[0;34m\u001B[0m\u001B[0m\n\u001B[0;32m-> 1361\u001B[0;31m         \u001B[0mself\u001B[0m\u001B[0;34m.\u001B[0m\u001B[0mdisplay\u001B[0m\u001B[0;34m(\u001B[0m\u001B[0;34m)\u001B[0m\u001B[0;34m\u001B[0m\u001B[0;34m\u001B[0m\u001B[0m\n\u001B[0m\u001B[1;32m   1362\u001B[0m         \u001B[0;32mif\u001B[0m \u001B[0;32mnot\u001B[0m \u001B[0mnolock\u001B[0m\u001B[0;34m:\u001B[0m\u001B[0;34m\u001B[0m\u001B[0;34m\u001B[0m\u001B[0m\n\u001B[1;32m   1363\u001B[0m             \u001B[0mself\u001B[0m\u001B[0;34m.\u001B[0m\u001B[0m_lock\u001B[0m\u001B[0;34m.\u001B[0m\u001B[0mrelease\u001B[0m\u001B[0;34m(\u001B[0m\u001B[0;34m)\u001B[0m\u001B[0;34m\u001B[0m\u001B[0;34m\u001B[0m\u001B[0m\n",
      "\u001B[0;32m~/opt/anaconda3/envs/torchStudy/lib/python3.7/site-packages/tqdm/std.py\u001B[0m in \u001B[0;36mdisplay\u001B[0;34m(self, msg, pos)\u001B[0m\n\u001B[1;32m   1507\u001B[0m         \u001B[0;32mif\u001B[0m \u001B[0mpos\u001B[0m\u001B[0;34m:\u001B[0m\u001B[0;34m\u001B[0m\u001B[0;34m\u001B[0m\u001B[0m\n\u001B[1;32m   1508\u001B[0m             \u001B[0mself\u001B[0m\u001B[0;34m.\u001B[0m\u001B[0mmoveto\u001B[0m\u001B[0;34m(\u001B[0m\u001B[0mpos\u001B[0m\u001B[0;34m)\u001B[0m\u001B[0;34m\u001B[0m\u001B[0;34m\u001B[0m\u001B[0m\n\u001B[0;32m-> 1509\u001B[0;31m         \u001B[0mself\u001B[0m\u001B[0;34m.\u001B[0m\u001B[0msp\u001B[0m\u001B[0;34m(\u001B[0m\u001B[0mself\u001B[0m\u001B[0;34m.\u001B[0m\u001B[0m__str__\u001B[0m\u001B[0;34m(\u001B[0m\u001B[0;34m)\u001B[0m \u001B[0;32mif\u001B[0m \u001B[0mmsg\u001B[0m \u001B[0;32mis\u001B[0m \u001B[0;32mNone\u001B[0m \u001B[0;32melse\u001B[0m \u001B[0mmsg\u001B[0m\u001B[0;34m)\u001B[0m\u001B[0;34m\u001B[0m\u001B[0;34m\u001B[0m\u001B[0m\n\u001B[0m\u001B[1;32m   1510\u001B[0m         \u001B[0;32mif\u001B[0m \u001B[0mpos\u001B[0m\u001B[0;34m:\u001B[0m\u001B[0;34m\u001B[0m\u001B[0;34m\u001B[0m\u001B[0m\n\u001B[1;32m   1511\u001B[0m             \u001B[0mself\u001B[0m\u001B[0;34m.\u001B[0m\u001B[0mmoveto\u001B[0m\u001B[0;34m(\u001B[0m\u001B[0;34m-\u001B[0m\u001B[0mpos\u001B[0m\u001B[0;34m)\u001B[0m\u001B[0;34m\u001B[0m\u001B[0;34m\u001B[0m\u001B[0m\n",
      "\u001B[0;32m~/opt/anaconda3/envs/torchStudy/lib/python3.7/site-packages/tqdm/std.py\u001B[0m in \u001B[0;36mprint_status\u001B[0;34m(s)\u001B[0m\n\u001B[1;32m    348\u001B[0m         \u001B[0;32mdef\u001B[0m \u001B[0mprint_status\u001B[0m\u001B[0;34m(\u001B[0m\u001B[0ms\u001B[0m\u001B[0;34m)\u001B[0m\u001B[0;34m:\u001B[0m\u001B[0;34m\u001B[0m\u001B[0;34m\u001B[0m\u001B[0m\n\u001B[1;32m    349\u001B[0m             \u001B[0mlen_s\u001B[0m \u001B[0;34m=\u001B[0m \u001B[0mdisp_len\u001B[0m\u001B[0;34m(\u001B[0m\u001B[0ms\u001B[0m\u001B[0;34m)\u001B[0m\u001B[0;34m\u001B[0m\u001B[0;34m\u001B[0m\u001B[0m\n\u001B[0;32m--> 350\u001B[0;31m             \u001B[0mfp_write\u001B[0m\u001B[0;34m(\u001B[0m\u001B[0;34m'\\r'\u001B[0m \u001B[0;34m+\u001B[0m \u001B[0ms\u001B[0m \u001B[0;34m+\u001B[0m \u001B[0;34m(\u001B[0m\u001B[0;34m' '\u001B[0m \u001B[0;34m*\u001B[0m \u001B[0mmax\u001B[0m\u001B[0;34m(\u001B[0m\u001B[0mlast_len\u001B[0m\u001B[0;34m[\u001B[0m\u001B[0;36m0\u001B[0m\u001B[0;34m]\u001B[0m \u001B[0;34m-\u001B[0m \u001B[0mlen_s\u001B[0m\u001B[0;34m,\u001B[0m \u001B[0;36m0\u001B[0m\u001B[0;34m)\u001B[0m\u001B[0;34m)\u001B[0m\u001B[0;34m)\u001B[0m\u001B[0;34m\u001B[0m\u001B[0;34m\u001B[0m\u001B[0m\n\u001B[0m\u001B[1;32m    351\u001B[0m             \u001B[0mlast_len\u001B[0m\u001B[0;34m[\u001B[0m\u001B[0;36m0\u001B[0m\u001B[0;34m]\u001B[0m \u001B[0;34m=\u001B[0m \u001B[0mlen_s\u001B[0m\u001B[0;34m\u001B[0m\u001B[0;34m\u001B[0m\u001B[0m\n\u001B[1;32m    352\u001B[0m \u001B[0;34m\u001B[0m\u001B[0m\n",
      "\u001B[0;32m~/opt/anaconda3/envs/torchStudy/lib/python3.7/site-packages/tqdm/std.py\u001B[0m in \u001B[0;36mfp_write\u001B[0;34m(s)\u001B[0m\n\u001B[1;32m    342\u001B[0m         \u001B[0;32mdef\u001B[0m \u001B[0mfp_write\u001B[0m\u001B[0;34m(\u001B[0m\u001B[0ms\u001B[0m\u001B[0;34m)\u001B[0m\u001B[0;34m:\u001B[0m\u001B[0;34m\u001B[0m\u001B[0;34m\u001B[0m\u001B[0m\n\u001B[1;32m    343\u001B[0m             \u001B[0mfp\u001B[0m\u001B[0;34m.\u001B[0m\u001B[0mwrite\u001B[0m\u001B[0;34m(\u001B[0m\u001B[0m_unicode\u001B[0m\u001B[0;34m(\u001B[0m\u001B[0ms\u001B[0m\u001B[0;34m)\u001B[0m\u001B[0;34m)\u001B[0m\u001B[0;34m\u001B[0m\u001B[0;34m\u001B[0m\u001B[0m\n\u001B[0;32m--> 344\u001B[0;31m             \u001B[0mfp_flush\u001B[0m\u001B[0;34m(\u001B[0m\u001B[0;34m)\u001B[0m\u001B[0;34m\u001B[0m\u001B[0;34m\u001B[0m\u001B[0m\n\u001B[0m\u001B[1;32m    345\u001B[0m \u001B[0;34m\u001B[0m\u001B[0m\n\u001B[1;32m    346\u001B[0m         \u001B[0mlast_len\u001B[0m \u001B[0;34m=\u001B[0m \u001B[0;34m[\u001B[0m\u001B[0;36m0\u001B[0m\u001B[0;34m]\u001B[0m\u001B[0;34m\u001B[0m\u001B[0;34m\u001B[0m\u001B[0m\n",
      "\u001B[0;32m~/opt/anaconda3/envs/torchStudy/lib/python3.7/site-packages/tqdm/utils.py\u001B[0m in \u001B[0;36minner\u001B[0;34m(*args, **kwargs)\u001B[0m\n\u001B[1;32m    143\u001B[0m         \u001B[0;32mdef\u001B[0m \u001B[0minner\u001B[0m\u001B[0;34m(\u001B[0m\u001B[0;34m*\u001B[0m\u001B[0margs\u001B[0m\u001B[0;34m,\u001B[0m \u001B[0;34m**\u001B[0m\u001B[0mkwargs\u001B[0m\u001B[0;34m)\u001B[0m\u001B[0;34m:\u001B[0m\u001B[0;34m\u001B[0m\u001B[0;34m\u001B[0m\u001B[0m\n\u001B[1;32m    144\u001B[0m             \u001B[0;32mtry\u001B[0m\u001B[0;34m:\u001B[0m\u001B[0;34m\u001B[0m\u001B[0;34m\u001B[0m\u001B[0m\n\u001B[0;32m--> 145\u001B[0;31m                 \u001B[0;32mreturn\u001B[0m \u001B[0mfunc\u001B[0m\u001B[0;34m(\u001B[0m\u001B[0;34m*\u001B[0m\u001B[0margs\u001B[0m\u001B[0;34m,\u001B[0m \u001B[0;34m**\u001B[0m\u001B[0mkwargs\u001B[0m\u001B[0;34m)\u001B[0m\u001B[0;34m\u001B[0m\u001B[0;34m\u001B[0m\u001B[0m\n\u001B[0m\u001B[1;32m    146\u001B[0m             \u001B[0;32mexcept\u001B[0m \u001B[0mOSError\u001B[0m \u001B[0;32mas\u001B[0m \u001B[0me\u001B[0m\u001B[0;34m:\u001B[0m\u001B[0;34m\u001B[0m\u001B[0;34m\u001B[0m\u001B[0m\n\u001B[1;32m    147\u001B[0m                 \u001B[0;32mif\u001B[0m \u001B[0me\u001B[0m\u001B[0;34m.\u001B[0m\u001B[0merrno\u001B[0m \u001B[0;34m!=\u001B[0m \u001B[0;36m5\u001B[0m\u001B[0;34m:\u001B[0m\u001B[0;34m\u001B[0m\u001B[0;34m\u001B[0m\u001B[0m\n",
      "\u001B[0;32m~/opt/anaconda3/envs/torchStudy/lib/python3.7/site-packages/ipykernel/iostream.py\u001B[0m in \u001B[0;36mflush\u001B[0;34m(self)\u001B[0m\n\u001B[1;32m    486\u001B[0m             \u001B[0mself\u001B[0m\u001B[0;34m.\u001B[0m\u001B[0mpub_thread\u001B[0m\u001B[0;34m.\u001B[0m\u001B[0mschedule\u001B[0m\u001B[0;34m(\u001B[0m\u001B[0mevt\u001B[0m\u001B[0;34m.\u001B[0m\u001B[0mset\u001B[0m\u001B[0;34m)\u001B[0m\u001B[0;34m\u001B[0m\u001B[0;34m\u001B[0m\u001B[0m\n\u001B[1;32m    487\u001B[0m             \u001B[0;31m# and give a timeout to avoid\u001B[0m\u001B[0;34m\u001B[0m\u001B[0;34m\u001B[0m\u001B[0;34m\u001B[0m\u001B[0m\n\u001B[0;32m--> 488\u001B[0;31m             \u001B[0;32mif\u001B[0m \u001B[0;32mnot\u001B[0m \u001B[0mevt\u001B[0m\u001B[0;34m.\u001B[0m\u001B[0mwait\u001B[0m\u001B[0;34m(\u001B[0m\u001B[0mself\u001B[0m\u001B[0;34m.\u001B[0m\u001B[0mflush_timeout\u001B[0m\u001B[0;34m)\u001B[0m\u001B[0;34m:\u001B[0m\u001B[0;34m\u001B[0m\u001B[0;34m\u001B[0m\u001B[0m\n\u001B[0m\u001B[1;32m    489\u001B[0m                 \u001B[0;31m# write directly to __stderr__ instead of warning because\u001B[0m\u001B[0;34m\u001B[0m\u001B[0;34m\u001B[0m\u001B[0;34m\u001B[0m\u001B[0m\n\u001B[1;32m    490\u001B[0m                 \u001B[0;31m# if this is happening sys.stderr may be the problem.\u001B[0m\u001B[0;34m\u001B[0m\u001B[0;34m\u001B[0m\u001B[0;34m\u001B[0m\u001B[0m\n",
      "\u001B[0;32m~/opt/anaconda3/envs/torchStudy/lib/python3.7/threading.py\u001B[0m in \u001B[0;36mwait\u001B[0;34m(self, timeout)\u001B[0m\n\u001B[1;32m    550\u001B[0m             \u001B[0msignaled\u001B[0m \u001B[0;34m=\u001B[0m \u001B[0mself\u001B[0m\u001B[0;34m.\u001B[0m\u001B[0m_flag\u001B[0m\u001B[0;34m\u001B[0m\u001B[0;34m\u001B[0m\u001B[0m\n\u001B[1;32m    551\u001B[0m             \u001B[0;32mif\u001B[0m \u001B[0;32mnot\u001B[0m \u001B[0msignaled\u001B[0m\u001B[0;34m:\u001B[0m\u001B[0;34m\u001B[0m\u001B[0;34m\u001B[0m\u001B[0m\n\u001B[0;32m--> 552\u001B[0;31m                 \u001B[0msignaled\u001B[0m \u001B[0;34m=\u001B[0m \u001B[0mself\u001B[0m\u001B[0;34m.\u001B[0m\u001B[0m_cond\u001B[0m\u001B[0;34m.\u001B[0m\u001B[0mwait\u001B[0m\u001B[0;34m(\u001B[0m\u001B[0mtimeout\u001B[0m\u001B[0;34m)\u001B[0m\u001B[0;34m\u001B[0m\u001B[0;34m\u001B[0m\u001B[0m\n\u001B[0m\u001B[1;32m    553\u001B[0m             \u001B[0;32mreturn\u001B[0m \u001B[0msignaled\u001B[0m\u001B[0;34m\u001B[0m\u001B[0;34m\u001B[0m\u001B[0m\n\u001B[1;32m    554\u001B[0m \u001B[0;34m\u001B[0m\u001B[0m\n",
      "\u001B[0;32m~/opt/anaconda3/envs/torchStudy/lib/python3.7/threading.py\u001B[0m in \u001B[0;36mwait\u001B[0;34m(self, timeout)\u001B[0m\n\u001B[1;32m    298\u001B[0m             \u001B[0;32melse\u001B[0m\u001B[0;34m:\u001B[0m\u001B[0;34m\u001B[0m\u001B[0;34m\u001B[0m\u001B[0m\n\u001B[1;32m    299\u001B[0m                 \u001B[0;32mif\u001B[0m \u001B[0mtimeout\u001B[0m \u001B[0;34m>\u001B[0m \u001B[0;36m0\u001B[0m\u001B[0;34m:\u001B[0m\u001B[0;34m\u001B[0m\u001B[0;34m\u001B[0m\u001B[0m\n\u001B[0;32m--> 300\u001B[0;31m                     \u001B[0mgotit\u001B[0m \u001B[0;34m=\u001B[0m \u001B[0mwaiter\u001B[0m\u001B[0;34m.\u001B[0m\u001B[0macquire\u001B[0m\u001B[0;34m(\u001B[0m\u001B[0;32mTrue\u001B[0m\u001B[0;34m,\u001B[0m \u001B[0mtimeout\u001B[0m\u001B[0;34m)\u001B[0m\u001B[0;34m\u001B[0m\u001B[0;34m\u001B[0m\u001B[0m\n\u001B[0m\u001B[1;32m    301\u001B[0m                 \u001B[0;32melse\u001B[0m\u001B[0;34m:\u001B[0m\u001B[0;34m\u001B[0m\u001B[0;34m\u001B[0m\u001B[0m\n\u001B[1;32m    302\u001B[0m                     \u001B[0mgotit\u001B[0m \u001B[0;34m=\u001B[0m \u001B[0mwaiter\u001B[0m\u001B[0;34m.\u001B[0m\u001B[0macquire\u001B[0m\u001B[0;34m(\u001B[0m\u001B[0;32mFalse\u001B[0m\u001B[0;34m)\u001B[0m\u001B[0;34m\u001B[0m\u001B[0;34m\u001B[0m\u001B[0m\n",
      "\u001B[0;31mKeyboardInterrupt\u001B[0m: "
     ]
    }
   ],
   "source": [
    "for epoch in range(200):\n",
    "    iterator = tqdm.tqdm(loader)\n",
    "    for data, label in iterator:\n",
    "        optim.zero_grad()\n",
    "        \n",
    "        #은닉층의 모양 (RNN 은닉층 개수, 배치 개수, 출력의 차원)\n",
    "        h0 = torch.zeros(5, data.shape[0], 8).to(device)\n",
    "        \n",
    "        pred = model(data.type(torch.FloatTensor).to(device), h0)\n",
    "        \n",
    "        loss = nn.MSELoss()(pred, label.type(torch.FloatTensor).to(device))\n",
    "        \n",
    "        loss.backward()\n",
    "        optim.step()\n",
    "        \n",
    "        iterator.set_description(f\"epoch{epoch} loss:{loss.item()}\")\n",
    "        \n",
    "torch.save(model.state_dict(), './rnn.pth')"
   ],
   "metadata": {
    "collapsed": false,
    "ExecuteTime": {
     "end_time": "2024-01-11T06:21:59.568855Z",
     "start_time": "2024-01-11T06:21:45.032898Z"
    }
   },
   "id": "637a2645f454b71c",
   "execution_count": 34
  },
  {
   "cell_type": "code",
   "outputs": [],
   "source": [
    "import matplotlib.pyplot as plt\n",
    "\n",
    "loader = DataLoader(dataset, batch_size=1)\n",
    "\n",
    "preds = []\n",
    "total_loss = 0\n",
    "\n",
    "with torch.no_grad():\n",
    "    # 모델의 가중치 가져오기\n",
    "    model.load_state_dict(torch.load('./rnn.pth'), map_location=device)\n",
    "    \n",
    "    for data, label in loader:\n",
    "        h0 = torch.zeros(5, data.shape[0], 8).to(device)\n",
    "        \n",
    "        #모델의 예측 값 출력\n",
    "        pred = model(data.type(torch.FloatTensor).to(device), h0)\n",
    "        preds.append(pred.item())\n",
    "        \n",
    "        loss = nn.MSELoss()(pred, label.type(torch.FloatTensor).to(device))\n",
    "        \n",
    "        total_loss += loss/len(loader)\n",
    "        "
   ],
   "metadata": {
    "collapsed": false
   },
   "id": "753b82a3613443c"
  }
 ],
 "metadata": {
  "kernelspec": {
   "name": "torchstudy",
   "language": "python",
   "display_name": "torchStudy"
  },
  "language_info": {
   "codemirror_mode": {
    "name": "ipython",
    "version": 2
   },
   "file_extension": ".py",
   "mimetype": "text/x-python",
   "name": "python",
   "nbconvert_exporter": "python",
   "pygments_lexer": "ipython2",
   "version": "2.7.6"
  }
 },
 "nbformat": 4,
 "nbformat_minor": 5
}
