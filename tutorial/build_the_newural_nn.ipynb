{
 "cells": [
  {
   "cell_type": "code",
   "execution_count": 1,
   "id": "initial_id",
   "metadata": {
    "collapsed": true,
    "ExecuteTime": {
     "end_time": "2024-01-11T01:47:38.579198Z",
     "start_time": "2024-01-11T01:47:37.999207Z"
    }
   },
   "outputs": [
    {
     "name": "stdout",
     "output_type": "stream",
     "text": [
      "Using cpu device\n"
     ]
    }
   ],
   "source": [
    "import os\n",
    "import torch\n",
    "from torch import nn\n",
    "from torch.utils.data import DataLoader\n",
    "from torchvision import datasets, transforms\n",
    "\n",
    "device = (\n",
    "    \"cuda\"\n",
    "    if torch.cuda.is_available()\n",
    "    else \"cpu\"\n",
    ")\n",
    "print(f\"Using {device} device\")"
   ]
  },
  {
   "cell_type": "code",
   "outputs": [],
   "source": [
    "class NeuralNetwork(nn.Module):\n",
    "    def __init__(self) -> None:\n",
    "        super().__init__()\n",
    "        self.flatten = nn.Flatten()\n",
    "        self.linear_relu_stack = nn.Sequential(\n",
    "            nn.Linear(28*28, 512),\n",
    "            nn.ReLU(),\n",
    "            nn.Linear(512,512),\n",
    "            nn.ReLU(),\n",
    "            nn.Linear(512,10)\n",
    "        )\n",
    "        \n",
    "    def forward(self, x):\n",
    "        x = self.flatten(x)\n",
    "        logits = self.linear_relu_stack(x)\n",
    "        return logits"
   ],
   "metadata": {
    "collapsed": false,
    "ExecuteTime": {
     "end_time": "2024-01-11T01:50:16.818078Z",
     "start_time": "2024-01-11T01:50:16.812212Z"
    }
   },
   "id": "822728e811f3c8de",
   "execution_count": 2
  },
  {
   "cell_type": "code",
   "outputs": [
    {
     "name": "stdout",
     "output_type": "stream",
     "text": [
      "NeuralNetwork(\n",
      "  (flatten): Flatten(start_dim=1, end_dim=-1)\n",
      "  (linear_relu_stack): Sequential(\n",
      "    (0): Linear(in_features=784, out_features=512, bias=True)\n",
      "    (1): ReLU()\n",
      "    (2): Linear(in_features=512, out_features=512, bias=True)\n",
      "    (3): ReLU()\n",
      "    (4): Linear(in_features=512, out_features=10, bias=True)\n",
      "  )\n",
      ")\n"
     ]
    }
   ],
   "source": [
    "model = NeuralNetwork().to(device)\n",
    "print(model)"
   ],
   "metadata": {
    "collapsed": false,
    "ExecuteTime": {
     "end_time": "2024-01-11T01:50:37.527793Z",
     "start_time": "2024-01-11T01:50:37.513026Z"
    }
   },
   "id": "a763606c9557abcd",
   "execution_count": 3
  },
  {
   "cell_type": "code",
   "outputs": [
    {
     "name": "stdout",
     "output_type": "stream",
     "text": [
      "Predicted class: tensor([3])\n"
     ]
    }
   ],
   "source": [
    "X = torch.rand(1,28,28, device=device)\n",
    "logits = model(X)\n",
    "pred_probab = nn.Softmax(dim=1)(logits)\n",
    "y_pred = pred_probab.argmax(dim=1)\n",
    "print(f\"Predicted class: {y_pred}\")"
   ],
   "metadata": {
    "collapsed": false,
    "ExecuteTime": {
     "end_time": "2024-01-11T01:52:27.166345Z",
     "start_time": "2024-01-11T01:52:27.122258Z"
    }
   },
   "id": "2359f6bb76b45aef",
   "execution_count": 4
  },
  {
   "cell_type": "code",
   "outputs": [
    {
     "name": "stdout",
     "output_type": "stream",
     "text": [
      "torch.Size([3, 28, 28])\n"
     ]
    }
   ],
   "source": [
    "input_image = torch.rand(3,28,28)\n",
    "print(input_image.size())"
   ],
   "metadata": {
    "collapsed": false,
    "ExecuteTime": {
     "end_time": "2024-01-11T01:52:56.346887Z",
     "start_time": "2024-01-11T01:52:56.338830Z"
    }
   },
   "id": "e9afb3dd5848dd3e",
   "execution_count": 5
  },
  {
   "cell_type": "code",
   "outputs": [
    {
     "name": "stdout",
     "output_type": "stream",
     "text": [
      "torch.Size([3, 784])\n"
     ]
    }
   ],
   "source": [
    "flatten = nn.Flatten()\n",
    "flat_image = flatten(input_image)\n",
    "print(flat_image.size())\n",
    "\n"
   ],
   "metadata": {
    "collapsed": false,
    "ExecuteTime": {
     "end_time": "2024-01-11T01:53:53.716807Z",
     "start_time": "2024-01-11T01:53:53.711725Z"
    }
   },
   "id": "24bd818c04ecee6e",
   "execution_count": 7
  },
  {
   "cell_type": "code",
   "outputs": [
    {
     "name": "stdout",
     "output_type": "stream",
     "text": [
      "torch.Size([3, 20])\n"
     ]
    }
   ],
   "source": [
    "layer1 = nn.Linear(in_features=28*28, out_features=20)\n",
    "hidden1 = layer1(flat_image)\n",
    "print(hidden1.size())"
   ],
   "metadata": {
    "collapsed": false,
    "ExecuteTime": {
     "end_time": "2024-01-11T01:55:19.644502Z",
     "start_time": "2024-01-11T01:55:19.638083Z"
    }
   },
   "id": "d03bcb808ff79867",
   "execution_count": 9
  },
  {
   "cell_type": "code",
   "outputs": [
    {
     "name": "stdout",
     "output_type": "stream",
     "text": [
      "Before ReLU: tensor([[-0.0623, -0.1444, -0.1830,  0.2037,  0.2185,  0.1567,  0.1660,  0.3697,\n",
      "          0.3338,  0.1874, -0.4126,  0.1378, -0.0690, -0.0048,  0.3772, -0.0497,\n",
      "         -0.2487, -0.5308, -0.1957,  0.4705],\n",
      "        [ 0.3024, -0.3635,  0.0898,  0.0702,  0.0529, -0.4097,  0.3600,  0.1936,\n",
      "          0.2628, -0.2231, -0.6337,  0.0985,  0.2686, -0.1429,  0.2681,  0.0590,\n",
      "          0.0688, -0.8224,  0.3985,  0.2459],\n",
      "        [ 0.1891, -0.3353,  0.0118,  0.1339,  0.1813, -0.0244,  0.0665,  0.1319,\n",
      "          0.5698, -0.2665, -0.3762,  0.0855,  0.0818,  0.0950,  0.4246, -0.1892,\n",
      "         -0.0238, -0.7194,  0.0741,  0.2049]], grad_fn=<AddmmBackward0>)\n",
      "\n",
      "\n",
      "After ReLU: tensor([[0.0000, 0.0000, 0.0000, 0.2037, 0.2185, 0.1567, 0.1660, 0.3697, 0.3338,\n",
      "         0.1874, 0.0000, 0.1378, 0.0000, 0.0000, 0.3772, 0.0000, 0.0000, 0.0000,\n",
      "         0.0000, 0.4705],\n",
      "        [0.3024, 0.0000, 0.0898, 0.0702, 0.0529, 0.0000, 0.3600, 0.1936, 0.2628,\n",
      "         0.0000, 0.0000, 0.0985, 0.2686, 0.0000, 0.2681, 0.0590, 0.0688, 0.0000,\n",
      "         0.3985, 0.2459],\n",
      "        [0.1891, 0.0000, 0.0118, 0.1339, 0.1813, 0.0000, 0.0665, 0.1319, 0.5698,\n",
      "         0.0000, 0.0000, 0.0855, 0.0818, 0.0950, 0.4246, 0.0000, 0.0000, 0.0000,\n",
      "         0.0741, 0.2049]], grad_fn=<ReluBackward0>)\n"
     ]
    }
   ],
   "source": [
    "print(f\"Before ReLU: {hidden1}\\n\\n\")\n",
    "hidden1 = nn.ReLU()(hidden1)\n",
    "print(f\"After ReLU: {hidden1}\")"
   ],
   "metadata": {
    "collapsed": false,
    "ExecuteTime": {
     "end_time": "2024-01-11T01:57:02.227745Z",
     "start_time": "2024-01-11T01:57:02.221011Z"
    }
   },
   "id": "446238974502a2ce",
   "execution_count": 10
  },
  {
   "cell_type": "code",
   "outputs": [],
   "source": [
    "seq_modules = nn.Sequential(\n",
    "    flatten,\n",
    "    layer1,\n",
    "    nn.ReLU(),\n",
    "    nn.Linear(20, 10)\n",
    ")\n",
    "input_image = torch.rand(3,28,28)\n",
    "logits = seq_modules(input_image)"
   ],
   "metadata": {
    "collapsed": false,
    "ExecuteTime": {
     "end_time": "2024-01-11T01:57:06.771403Z",
     "start_time": "2024-01-11T01:57:06.765941Z"
    }
   },
   "id": "389df4a4fa40d0f3",
   "execution_count": 11
  },
  {
   "cell_type": "code",
   "outputs": [
    {
     "name": "stdout",
     "output_type": "stream",
     "text": [
      "Model structure: NeuralNetwork(\n",
      "  (flatten): Flatten(start_dim=1, end_dim=-1)\n",
      "  (linear_relu_stack): Sequential(\n",
      "    (0): Linear(in_features=784, out_features=512, bias=True)\n",
      "    (1): ReLU()\n",
      "    (2): Linear(in_features=512, out_features=512, bias=True)\n",
      "    (3): ReLU()\n",
      "    (4): Linear(in_features=512, out_features=10, bias=True)\n",
      "  )\n",
      ")\n",
      "\n",
      "\n",
      "Layer: linear_relu_stack.0.weight | Size: torch.Size([512, 784]) | Values : tensor([[ 0.0172, -0.0164, -0.0283,  ..., -0.0183,  0.0254,  0.0349],\n",
      "        [-0.0104,  0.0257,  0.0012,  ..., -0.0319, -0.0351,  0.0161]],\n",
      "       grad_fn=<SliceBackward0>) \n",
      "\n",
      "Layer: linear_relu_stack.0.bias | Size: torch.Size([512]) | Values : tensor([-0.0023,  0.0228], grad_fn=<SliceBackward0>) \n",
      "\n",
      "Layer: linear_relu_stack.2.weight | Size: torch.Size([512, 512]) | Values : tensor([[ 0.0308,  0.0313,  0.0099,  ..., -0.0126, -0.0110,  0.0172],\n",
      "        [ 0.0222, -0.0352,  0.0157,  ..., -0.0048, -0.0019,  0.0109]],\n",
      "       grad_fn=<SliceBackward0>) \n",
      "\n",
      "Layer: linear_relu_stack.2.bias | Size: torch.Size([512]) | Values : tensor([-0.0182,  0.0241], grad_fn=<SliceBackward0>) \n",
      "\n",
      "Layer: linear_relu_stack.4.weight | Size: torch.Size([10, 512]) | Values : tensor([[ 0.0403,  0.0031, -0.0001,  ..., -0.0072, -0.0392, -0.0417],\n",
      "        [-0.0098,  0.0350, -0.0369,  ...,  0.0361,  0.0045,  0.0270]],\n",
      "       grad_fn=<SliceBackward0>) \n",
      "\n",
      "Layer: linear_relu_stack.4.bias | Size: torch.Size([10]) | Values : tensor([0.0430, 0.0136], grad_fn=<SliceBackward0>) \n"
     ]
    }
   ],
   "source": [
    "print(f\"Model structure: {model}\\n\\n\")\n",
    "\n",
    "for name, param in model.named_parameters():\n",
    "    print(f\"Layer: {name} | Size: {param.size()} | Values : {param[:2]} \\n\")"
   ],
   "metadata": {
    "collapsed": false,
    "ExecuteTime": {
     "end_time": "2024-01-11T01:57:15.758072Z",
     "start_time": "2024-01-11T01:57:15.751342Z"
    }
   },
   "id": "e8aac04383c396d3",
   "execution_count": 12
  },
  {
   "cell_type": "code",
   "outputs": [],
   "source": [],
   "metadata": {
    "collapsed": false
   },
   "id": "757ac4e1a284697a"
  }
 ],
 "metadata": {
  "kernelspec": {
   "name": "torchstudy",
   "language": "python",
   "display_name": "torchStudy"
  },
  "language_info": {
   "codemirror_mode": {
    "name": "ipython",
    "version": 2
   },
   "file_extension": ".py",
   "mimetype": "text/x-python",
   "name": "python",
   "nbconvert_exporter": "python",
   "pygments_lexer": "ipython2",
   "version": "2.7.6"
  }
 },
 "nbformat": 4,
 "nbformat_minor": 5
}
