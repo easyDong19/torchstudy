{
 "cells": [
  {
   "cell_type": "markdown",
   "source": [
    "### 분류 문제"
   ],
   "metadata": {
    "collapsed": false
   },
   "id": "90666f3ccb0de5ad"
  },
  {
   "cell_type": "code",
   "outputs": [
    {
     "name": "stdout",
     "output_type": "stream",
     "text": [
      "60000\n",
      "10000\n"
     ]
    },
    {
     "data": {
      "text/plain": "<Figure size 640x480 with 9 Axes>",
      "image/png": "[encoded data removed]"
     },
     "metadata": {},
     "output_type": "display_data"
    }
   ],
   "source": [
    "import matplotlib.pyplot as plt\n",
    "\n",
    "from torchvision.datasets.mnist import MNIST\n",
    "from torchvision.transforms import ToTensor\n",
    "\n",
    "#학습용 데이터와 평가용 데이터 분리\n",
    "training_data = MNIST(root='./', train=True, download=True, transform=ToTensor())\n",
    "test_data = MNIST(root='./', train=False, download=True, transform=ToTensor())\n",
    "\n",
    "print(len(training_data)) # 학습에 사용할 데이터 개수\n",
    "print(len(test_data)) # 평가에 사용할 데이터 개수\n",
    "\n",
    "for i in range(9):\n",
    "    plt.subplot(3, 3, i+1)\n",
    "    plt.imshow(training_data.data[i])\n",
    "plt.show()"
   ],
   "metadata": {
    "collapsed": true,
    "ExecuteTime": {
     "end_time": "2024-01-09T05:59:13.334603Z",
     "start_time": "2024-01-09T05:59:12.895756Z"
    }
   },
   "id": "initial_id",
   "execution_count": 4
  },
  {
   "cell_type": "code",
   "outputs": [],
   "source": [
    "from torch.utils.data import DataLoader\n",
    "\n",
    "train_loader = DataLoader(training_data, batch_size=32, shuffle=True)\n",
    "\n",
    "#평가용은 데이터를 섞을 필요가 없음\n",
    "test_loader = DataLoader(test_data, batch_size=32, shuffle=False)"
   ],
   "metadata": {
    "collapsed": false,
    "ExecuteTime": {
     "end_time": "2024-01-09T06:00:54.883369Z",
     "start_time": "2024-01-09T06:00:54.881134Z"
    }
   },
   "id": "965060c80712a2ea",
   "execution_count": 6
  },
  {
   "cell_type": "code",
   "outputs": [
    {
     "name": "stdout",
     "output_type": "stream",
     "text": [
      "epoch1 loss:0.2851230800151825\n",
      "epoch2 loss:0.20117917656898499\n",
      "epoch3 loss:0.06286991387605667\n",
      "epoch4 loss:0.15645428001880646\n",
      "epoch5 loss:0.11009824275970459\n",
      "epoch6 loss:0.015908142551779747\n",
      "epoch7 loss:0.0018316565547138453\n",
      "epoch8 loss:0.006797058042138815\n",
      "epoch9 loss:0.015112443827092648\n",
      "epoch10 loss:0.044872116297483444\n",
      "epoch11 loss:0.0018677616026252508\n",
      "epoch12 loss:0.00778456125408411\n",
      "epoch13 loss:0.05483899638056755\n",
      "epoch14 loss:0.001495536183938384\n",
      "epoch15 loss:0.0007804374909028411\n",
      "epoch16 loss:0.0011007122229784727\n",
      "epoch17 loss:0.0005439930828288198\n",
      "epoch18 loss:0.00016305413737427443\n",
      "epoch19 loss:0.0010563066462054849\n",
      "epoch20 loss:0.006156930699944496\n"
     ]
    }
   ],
   "source": [
    "# 모델 정의 및 학습하기\n",
    "import torch\n",
    "import torch.nn as nn\n",
    "\n",
    "from torch.optim.adam import Adam\n",
    "\n",
    "device = \"cuda\" if torch.cuda.is_available() else \"cpu\"\n",
    "\n",
    "#MLP 모델은 벡터만을 입력받을 수 있기 때문에 이미지를 벡터로 변환해주어야 한다\n",
    "model = nn.Sequential(\n",
    "    nn.Linear(784,64),\n",
    "    nn.ReLU(),\n",
    "    nn.Linear(64,64),\n",
    "    nn.ReLU(),\n",
    "    nn.Linear(64,10)\n",
    ")\n",
    "model.to(device)\n",
    "\n",
    "lr = 1e-3\n",
    "optim = Adam(model.parameters(), lr=lr)\n",
    "\n",
    "for epoch in range(20):\n",
    "    for data, label in train_loader:\n",
    "        optim.zero_grad()\n",
    "        # -1 개수를 상관하지 않곘다 이미지를 일렬로 펴줌\n",
    "        data = torch.reshape(data, (-1, 784)).to(device)\n",
    "        preds = model(data)\n",
    "        \n",
    "        loss = nn.CrossEntropyLoss()(preds, label.to(device))\n",
    "        loss.backward()\n",
    "        optim.step()\n",
    "    \n",
    "    print(f\"epoch{epoch+1} loss:{loss.item()}\")\n",
    "    \n",
    "torch.save(model.state_dict(), \"MNIST.pth\")"
   ],
   "metadata": {
    "collapsed": false,
    "ExecuteTime": {
     "end_time": "2024-01-09T06:10:09.169394Z",
     "start_time": "2024-01-09T06:08:25.558195Z"
    }
   },
   "id": "a7a0c3a9ed13cc5e",
   "execution_count": 7
  },
  {
   "cell_type": "code",
   "outputs": [
    {
     "name": "stdout",
     "output_type": "stream",
     "text": [
      "Accurancy: 0.9743\n"
     ]
    }
   ],
   "source": [
    "model.load_state_dict(torch.load(\"MNIST.pth\", map_location=device))\n",
    "\n",
    "num_corr = 0 #분류에 성공한 전체 개수\n",
    "\n",
    "with torch.no_grad():\n",
    "    for data, label in test_loader:\n",
    "        data = torch.reshape(data, (-1, 784)).to(device)\n",
    "        \n",
    "        output = model(data.to(device))\n",
    "        preds= output.data.max(1)[1]\n",
    "        \n",
    "        corr = preds.eq(label.to(device).data).sum().item()\n",
    "        num_corr += corr \n",
    "        \n",
    "    print(f\"Accurancy: {num_corr/len(test_data)}\")\n",
    "        "
   ],
   "metadata": {
    "collapsed": false,
    "ExecuteTime": {
     "end_time": "2024-01-09T06:14:11.293506Z",
     "start_time": "2024-01-09T06:14:10.754435Z"
    }
   },
   "id": "f6af4071ae8b0d85",
   "execution_count": 9
  },
  {
   "cell_type": "code",
   "outputs": [],
   "source": [],
   "metadata": {
    "collapsed": false
   },
   "id": "ef07ca362d5dee2"
  }
 ],
 "metadata": {
  "kernelspec": {
   "name": "torchstudy",
   "language": "python",
   "display_name": "torchStudy"
  },
  "language_info": {
   "codemirror_mode": {
    "name": "ipython",
    "version": 2
   },
   "file_extension": ".py",
   "mimetype": "text/x-python",
   "name": "python",
   "nbconvert_exporter": "python",
   "pygments_lexer": "ipython2",
   "version": "2.7.6"
  }
 },
 "nbformat": 4,
 "nbformat_minor": 5
}
